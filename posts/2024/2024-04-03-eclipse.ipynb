{
 "cells": [
  {
   "cell_type": "raw",
   "id": "ec2f17fd-9023-404a-a84e-18601f14881a",
   "metadata": {
    "raw_mimetype": "text/restructuredtext"
   },
   "source": [
    ".. post:: 3 April 2024\n",
    "   :author: Stuart Mumford\n",
    "   :tags: eclipse, outreach, tutorials\n",
    "   :category: Tutorial\n",
    "   :exclude:\n",
    "\n",
    "   In April 2024 there is a total solar eclipse over North America, in this post we demonstrate processing a photo of a total eclipse with SunPy.\n"
   ]
  },
  {
   "cell_type": "markdown",
   "id": "ca8586f5-bca3-4ef9-96f9-30b954e2d2a1",
   "metadata": {},
   "source": [
    "# Using SunPy to Overlay your Photos of the Eclipse with Satellite Data"
   ]
  },
  {
   "cell_type": "code",
   "execution_count": null,
   "id": "b77eac75-539b-42db-91d7-302978bf764c",
   "metadata": {},
   "outputs": [],
   "source": [
    "import datetime\n",
    "\n",
    "import numpy as np\n",
    "import matplotlib.image\n",
    "import matplotlib.pyplot as plt\n",
    "from matplotlib.patches import Circle\n",
    "import astropy.units as u\n",
    "\n",
    "import scipy.ndimage as ndimage\n",
    "from skimage.transform import hough_circle, hough_circle_peaks\n",
    "\n",
    "import astropy.wcs\n",
    "from astropy.coordinates import EarthLocation, SkyCoord\n",
    "\n",
    "import sunpy.coordinates.sun\n",
    "import sunpy.coordinates\n",
    "from sunpy.map.header_helper import make_fitswcs_header\n",
    "from astropy.time import Time\n",
    "from sunpy.net import Fido, attrs as a\n",
    "\n",
    "import exifread"
   ]
  },
  {
   "cell_type": "markdown",
   "id": "b5b72f7e-0731-4761-96f3-4bb0922747e4",
   "metadata": {},
   "source": [
    "We have defined a few helper functions in this `eclipse_helpers` file. To see it's contents click [here](./eclipse_helpers.py)."
   ]
  },
  {
   "cell_type": "code",
   "execution_count": null,
   "id": "22ba9c48-87f9-4a46-9392-669a7b329ef6",
   "metadata": {},
   "outputs": [],
   "source": [
    "from eclipse_helpers import solar_eclipse_image, get_camera_metadata"
   ]
  },
  {
   "cell_type": "markdown",
   "id": "c4f281f6-22aa-4813-aadd-d4f27b1753a6",
   "metadata": {},
   "source": [
    "[enter some gumpf about the eclipse here]"
   ]
  },
  {
   "cell_type": "markdown",
   "id": "76cbce7f-0d3f-45f2-8459-d6ecad19c5f1",
   "metadata": {},
   "source": [
    "In this blog post we will take an image from the 2017 solar eclipse over North America and walk through processing it with SunPy and other Python libraries so that you can generate a coordinate system for it, thereby allowing it to have other solar data overplotted and other analysis done."
   ]
  },
  {
   "cell_type": "markdown",
   "id": "ade9adf0-282b-4f55-befe-74a910333aa7",
   "metadata": {},
   "source": [
    "## Step 1 - Read in the image and find the Sun\n",
    "\n",
    "The first step is to read the image in and then extract critical information about the image from the metadata. To be able to do this alignment the two most important things we need to know are the GPS coordinates of where the photo was taken and the time of the image."
   ]
  },
  {
   "cell_type": "code",
   "execution_count": null,
   "id": "dad1d5ea-2376-4708-860a-b0238f2f52d0",
   "metadata": {},
   "outputs": [],
   "source": [
    "# read in the image and flip it so that it's correct\n",
    "im_rgb = np.flipud(matplotlib.image.imread(solar_eclipse_image))\n",
    "# remove color info\n",
    "im = np.average(im_rgb, axis=2)"
   ]
  },
  {
   "cell_type": "code",
   "execution_count": null,
   "id": "1badaf27-32e4-49a2-85d2-49805ec2c634",
   "metadata": {},
   "outputs": [],
   "source": [
    "plt.imshow(im, origin=\"lower\", cmap=\"gray\")"
   ]
  },
  {
   "cell_type": "code",
   "execution_count": null,
   "id": "492ce99a-931a-4184-a2df-985251649c93",
   "metadata": {},
   "outputs": [],
   "source": [
    "tags = exifread.process_file(open(solar_eclipse_image, 'rb'))"
   ]
  },
  {
   "cell_type": "code",
   "execution_count": null,
   "id": "e91e4da9-0efe-48a4-95ed-742164381507",
   "metadata": {},
   "outputs": [],
   "source": [
    "camera_metadata = get_camera_metadata(tags)"
   ]
  },
  {
   "cell_type": "code",
   "execution_count": null,
   "id": "67f6cee2-3465-4d0d-9c17-82b1cfd8f12f",
   "metadata": {},
   "outputs": [],
   "source": [
    "# If you are missing gps coordinates or time you will need to set it here.\n",
    "# Our time on the camera is wrong, so explicitly set it.\n",
    "camera_metadata[\"time\"] = datetime.datetime(2017, 8, 21, 17, 27, 13) # don't forget to convert your time to UTC!"
   ]
  },
  {
   "cell_type": "markdown",
   "id": "4127a8f9-3230-4645-958a-0a919afea3cf",
   "metadata": {},
   "source": [
    "### Finding the Sun\n",
    "\n",
    "The next step is to locate the edge of the Sun in the image. This allows us to find the Sun center, which is needed to align the data.\n",
    "\n",
    "To do this we are going to use various image manipulation routines."
   ]
  },
  {
   "cell_type": "markdown",
   "id": "f344a583-04e3-4b96-baac-f5ddf67fd2f7",
   "metadata": {},
   "source": [
    "We start with a Gaussian blur to help segment the solar disc from the corona."
   ]
  },
  {
   "cell_type": "code",
   "execution_count": null,
   "id": "8d2f0870-e82c-452b-b913-9867798ddaed",
   "metadata": {},
   "outputs": [],
   "source": [
    "blur_im = ndimage.gaussian_filter(im, 8)\n",
    "mask = blur_im > blur_im.mean() * 3\n",
    "plt.imshow(mask)"
   ]
  },
  {
   "cell_type": "markdown",
   "id": "fafb44b0-7596-47e2-82ce-9b35dbdf6962",
   "metadata": {},
   "source": [
    "Next we use label the regions in the image to find the bounding box of the bright corona."
   ]
  },
  {
   "cell_type": "code",
   "execution_count": null,
   "id": "f96ebca1-5497-49f0-8b62-6e14dd3d10dd",
   "metadata": {},
   "outputs": [],
   "source": [
    "label_im, nb_labels = ndimage.label(mask)\n",
    "\n",
    "slice_x, slice_y = ndimage.find_objects(label_im==1)[0]\n",
    "roi = blur_im[slice_x, slice_y]"
   ]
  },
  {
   "cell_type": "markdown",
   "id": "b593879a-ff24-4d76-9641-b6ecd889ad5b",
   "metadata": {},
   "source": [
    "The next step is to detect the inner edge of the bright corona, to assist with this we apply a [Sobel filter](https://en.wikipedia.org/wiki/Sobel_operator) in both the x and y directions, and then calculate a single image from the two directions."
   ]
  },
  {
   "cell_type": "code",
   "execution_count": null,
   "id": "1d35a94e-c1af-4021-8501-c7143f9191bf",
   "metadata": {},
   "outputs": [],
   "source": [
    "sx = ndimage.sobel(roi, axis=0, mode='constant')\n",
    "sy = ndimage.sobel(roi, axis=1, mode='constant')\n",
    "sob = np.hypot(sx, sy)"
   ]
  },
  {
   "cell_type": "markdown",
   "id": "a171d95f-3397-497e-ad81-e25041251b89",
   "metadata": {},
   "source": [
    "The next step is to use scikit-image to apply the [Hough Transform](https://en.wikipedia.org/wiki/Hough_transform) to identify circles in the image.\n",
    "We then use this to extract the size in pixels of the solar disk and its center."
   ]
  },
  {
   "cell_type": "code",
   "execution_count": null,
   "id": "a9f5be9b-585d-4b6d-b3bf-9ed06037c8ee",
   "metadata": {},
   "outputs": [],
   "source": [
    "hough_radii = np.arange(np.floor(np.mean(sob.shape)/4), np.ceil(np.mean(sob.shape)/2), 10)\n",
    "hough_res = hough_circle(sob > (sob.mean() * 5), hough_radii)\n",
    "\n",
    "# Select the most prominent circle\n",
    "accums, cy, cx, radii = hough_circle_peaks(hough_res, hough_radii, total_num_peaks=1)"
   ]
  },
  {
   "cell_type": "markdown",
   "id": "8df7c20e-e4b4-4537-b58b-5b3001df7913",
   "metadata": {},
   "source": [
    "In this plot we demonstrate how this has worked. The first frame is the cropped original image, the middle frame is the Sobel filtered image used to apply the Hough transform and the right frame is the fitted circle on the original image."
   ]
  },
  {
   "cell_type": "code",
   "execution_count": null,
   "id": "e293b495-74f9-4a53-b904-4da5084dde62",
   "metadata": {},
   "outputs": [],
   "source": [
    "fig, ax = plt.subplots(ncols=3, nrows=1, figsize=(9.5, 6))\n",
    "ax[0].imshow(im[slice_x, slice_y])\n",
    "ax[0].set_title('Original')\n",
    "ax[1].imshow(sob > (sob.mean() * 5))\n",
    "ax[1].set_title('Derivative')\n",
    "circ = Circle([cy, cx], radius=radii, facecolor='none', edgecolor='red', linewidth=2, label='Hough fit')\n",
    "ax[2].imshow(im[slice_x, slice_y])\n",
    "ax[2].add_patch(circ)\n",
    "ax[2].set_title('Original with fit')\n",
    "plt.legend()"
   ]
  },
  {
   "cell_type": "markdown",
   "id": "c18ed50e-1ad3-4df2-a182-5d86f39ade26",
   "metadata": {},
   "source": [
    "Here we add units to the circle fit parameters, and also provide the option of fudging the result a little if needed."
   ]
  },
  {
   "cell_type": "code",
   "execution_count": null,
   "id": "ed676a8f-a6f2-4726-8f24-d69dfd9fa2c3",
   "metadata": {},
   "outputs": [],
   "source": [
    "fudge_shift_x = 0 * u.pix # update this in case the fit needs to be shifted in x\n",
    "fudge_shift_y = 0 * u.pix # update this in case the fit needs to be shifted in y\n",
    "im_cx = (cx + slice_x.start) * u.pix + fudge_shift_x\n",
    "im_cy = (cy + slice_y.start) * u.pix + fudge_shift_y\n",
    "im_radius = radii * u.pix"
   ]
  },
  {
   "cell_type": "markdown",
   "id": "a61bd22f-57f1-4379-82e2-45ae1a343fbb",
   "metadata": {},
   "source": [
    "We can use sunpy to calculate the angular size of the solar disk as seen from Earth at a given time."
   ]
  },
  {
   "cell_type": "code",
   "execution_count": null,
   "id": "5921e454-b838-4124-83b8-71b094f11c36",
   "metadata": {},
   "outputs": [],
   "source": [
    "rsun_obs = sunpy.coordinates.sun.angular_radius(camera_metadata[\"time\"])\n",
    "rsun_obs"
   ]
  },
  {
   "cell_type": "markdown",
   "id": "d365d554-96bd-4fc9-bc84-60f0771a6c66",
   "metadata": {},
   "source": [
    "Combining this angular radius with the radius of the solar disc in pixels gives us the angular size of the pixels in the image."
   ]
  },
  {
   "cell_type": "code",
   "execution_count": null,
   "id": "cd13d560-3bda-46bb-bf5f-b86971a00ff6",
   "metadata": {},
   "outputs": [],
   "source": [
    "plate_scale = rsun_obs / im_radius\n",
    "plate_scale"
   ]
  },
  {
   "cell_type": "markdown",
   "id": "bd49ea6d-14a1-4591-bcda-c2b1949b0e8f",
   "metadata": {},
   "source": [
    "Finally, we can use the GPS coordinates of the image to calculate the orientation of the Sun as seen from that location on Earth. This gives us a rotation angle between our image and the solar north pole. If your camera wasn't perfectly horizontal then you may need to fudge this a little. However, in a later step we will improve the accuracy of this rotation angle by finding stars in the image."
   ]
  },
  {
   "cell_type": "code",
   "execution_count": null,
   "id": "8f7a5a79-9b2f-44b4-a2a3-83f9855ed6d7",
   "metadata": {},
   "outputs": [],
   "source": [
    "loc = EarthLocation(lat=camera_metadata[\"gps\"][0], lon=camera_metadata[\"gps\"][1])\n",
    "fudge_angle = 0.0 * u.deg # update this in case your camera was not perfectly level.\n",
    "solar_rotation_angle = sunpy.coordinates.sun.orientation(loc, camera_metadata[\"time\"]) + fudge_angle\n",
    "solar_rotation_angle"
   ]
  },
  {
   "cell_type": "markdown",
   "id": "7d1ae037-71e9-4bb5-a3c6-a95cbf887f48",
   "metadata": {},
   "source": [
    "Now we have all the required coordinate information about our eclipse image, we can build a sunpy `Map` object, which is a coordinate aware 2D image.\n",
    "To do this we first make a header with all this solar coordinate metadata in it."
   ]
  },
  {
   "cell_type": "code",
   "execution_count": null,
   "id": "d2ae1459-e44f-499f-a6b1-9f30cdb5db34",
   "metadata": {},
   "outputs": [],
   "source": [
    "header = make_fitswcs_header(\n",
    "    im,\n",
    "    SkyCoord(0, 0, unit=u.arcsec, frame=\"helioprojective\", observer=loc.get_itrs(Time(camera_metadata[\"time\"])), obstime=camera_metadata[\"time\"]),\n",
    "    reference_pixel=u.Quantity([im_cy[0], im_cx[0]]),\n",
    "    scale=np.ones(2) * plate_scale,\n",
    "    rotation_angle=solar_rotation_angle,\n",
    "    exposure=camera_metadata.get(\"exposure_time\"),\n",
    "    instrument=camera_metadata.get(\"camera_model\"),\n",
    "    observatory=camera_metadata.get(\"author\"),\n",
    ")"
   ]
  },
  {
   "cell_type": "code",
   "execution_count": null,
   "id": "0fa1f6f2-1890-476e-845d-29e0147e7df9",
   "metadata": {},
   "outputs": [],
   "source": [
    "eclipse_map = sunpy.map.Map(im, header)"
   ]
  },
  {
   "cell_type": "code",
   "execution_count": null,
   "id": "e88569f8-c717-4b6a-a76e-7237403cb74f",
   "metadata": {},
   "outputs": [],
   "source": [
    "eclipse_map"
   ]
  },
  {
   "cell_type": "markdown",
   "id": "3bb5a923-0c08-4a6a-8766-f6caef7b147a",
   "metadata": {},
   "source": [
    "## Step 2 - Finding Stars to improve the accuracy\n",
    "\n",
    "The next thing we can do is locate a known star in the image and use that to improve our knoweldge of the rotation angle. In the case of the 2017 eclipse the very bright star (magnitude 1.4) [Regulus](https://en.wikipedia.org/wiki/Regulus) was close to the Sun.\n",
    "\n",
    "For the 2024 eclipse there isn't such a bright star in proxmity to the Sun, which may make this method of aligning your image more challenging. The best candidate looks to be [Alpha Piscium](https://en.wikipedia.org/wiki/Alpha_Piscium) which is a binary system with a combined magnitude of 3.82, significantly dimmer.\n",
    "\n",
    "You can see the stars close to the Sun by using [Stellarium](https://stellarium-web.org/skysource/Sun?fov=1.1092&amp;date=2024-04-08T18:30:47Z&amp;lat=28.86&amp;lng=-100.53&amp;elev=0)."
   ]
  },
  {
   "cell_type": "markdown",
   "id": "f7b776e1-73bd-4128-a5ab-5bfeac02d9c1",
   "metadata": {},
   "source": [
    "As Regulus is a well known star, we can create a coordinate object for it, including it's distance."
   ]
  },
  {
   "cell_type": "code",
   "execution_count": null,
   "id": "42116a03-dfeb-40fc-9984-de33a779164c",
   "metadata": {},
   "outputs": [],
   "source": [
    "regulus = SkyCoord(ra='10h08m22.311s', dec='11d58m01.95s', distance=79.3 * u.lightyear, frame='icrs')\n",
    "regulus"
   ]
  },
  {
   "cell_type": "markdown",
   "id": "7adb201e-c252-417b-98c1-8197727f7cfa",
   "metadata": {},
   "source": [
    "Using this we can then plot the expected location of Regulus over our eclipse image.\n",
    "I have set the scaling on this image such that it make Regulus more visible, you can see that the expected location and the actual location are quite different."
   ]
  },
  {
   "cell_type": "code",
   "execution_count": null,
   "id": "081b463c-b57e-4673-ae89-6b11c9786753",
   "metadata": {},
   "outputs": [],
   "source": [
    "fig = plt.figure(figsize=(9,9))\n",
    "ax = plt.subplot(projection=eclipse_map)\n",
    "eclipse_map.plot(axes=ax, vmax=20)\n",
    "ax.plot_coord(regulus, 'o', markeredgewidth=0.5, markeredgecolor='w', \n",
    "              markerfacecolor='None', markersize=10, label='Regulus')\n",
    "eclipse_map.draw_grid(axes=ax)\n",
    "eclipse_map.draw_limb(axes=ax)\n",
    "plt.legend()\n",
    "plt.show()"
   ]
  },
  {
   "cell_type": "markdown",
   "id": "da1e68b3-ec1b-478c-b03d-26daf4512ef3",
   "metadata": {},
   "source": [
    "We can calculate the expected distance from the center of the Sun to Regulus in pixels, and we will then use this to aid the detection of Regulus in the image by filtering out all pixels closer to the Sun than this."
   ]
  },
  {
   "cell_type": "code",
   "execution_count": null,
   "id": "f81ccc13-3f5d-469c-af6a-bb29c7155f6e",
   "metadata": {},
   "outputs": [],
   "source": [
    "regulus_pixel = eclipse_map.wcs.world_to_pixel(regulus) * u.pix\n",
    "regulus_r = np.sqrt((regulus_pixel[0] - im_cx)**2 + (regulus_pixel[1] - im_cy)**2)\n",
    "regulus_r"
   ]
  },
  {
   "cell_type": "code",
   "execution_count": null,
   "id": "fdb875fe-5924-4e59-b554-70e18d66860d",
   "metadata": {},
   "outputs": [],
   "source": [
    "pix_x = np.arange((eclipse_map.dimensions[0]).value) - im_cy.value\n",
    "pix_y = np.arange((eclipse_map.dimensions[1]).value) - im_cx.value\n",
    "xx, yy = np.meshgrid(pix_x, pix_y)\n",
    "r = np.sqrt(xx**2 + yy**2)\n",
    "\n",
    "filter_r = regulus_r - (regulus_r/5)\n",
    "\n",
    "masked = im.copy()\n",
    "masked[r < filter_r.value] = masked.min()"
   ]
  },
  {
   "cell_type": "markdown",
   "id": "996a35c2-a924-479f-ac26-bfb0a4ad1702",
   "metadata": {},
   "source": [
    "Having masked out most of the Sun and it's corona, we can now use the [photutils](https://photutils.readthedocs.io/en/stable/index.html) package to identify stars in the image. With some tweaking of the parameters, we make it so it only finds Regulus."
   ]
  },
  {
   "cell_type": "code",
   "execution_count": null,
   "id": "daa97bc5-798d-4bcb-90a4-b0041ea56bfc",
   "metadata": {},
   "outputs": [],
   "source": [
    "from photutils.detection import DAOStarFinder"
   ]
  },
  {
   "cell_type": "code",
   "execution_count": null,
   "id": "5c5715a7-c417-4f1b-b0e9-7c582096686b",
   "metadata": {},
   "outputs": [],
   "source": [
    "daofind = DAOStarFinder(fwhm=3.0, threshold=masked.max()/2)    \n",
    "sources = daofind(masked)    \n",
    "print(sources)"
   ]
  },
  {
   "cell_type": "code",
   "execution_count": null,
   "id": "c6b08de4-f887-4f53-9d08-a84c6a1153d0",
   "metadata": {},
   "outputs": [],
   "source": [
    "regulus_x, regulus_y = sources[0]['xcentroid'] * u.pix, sources[0]['ycentroid'] * u.pix"
   ]
  },
  {
   "cell_type": "markdown",
   "id": "65f03ad3-f368-4c82-88c3-939a6e6d3e17",
   "metadata": {},
   "source": [
    "Having found the actual pixel coordinates of Regulus, we can compare them to our expected coordinates from our fitted coordinate system."
   ]
  },
  {
   "cell_type": "code",
   "execution_count": null,
   "id": "063c5d20-2587-4b0b-a33b-31876f89cd74",
   "metadata": {},
   "outputs": [],
   "source": [
    "print(regulus_pixel[0], regulus_x)\n",
    "print(regulus_pixel[1], regulus_y)"
   ]
  },
  {
   "cell_type": "markdown",
   "id": "27d2d78a-3d12-4d0a-a4aa-72b6358fe9c9",
   "metadata": {},
   "source": [
    "We can then calculate the angular offset between our expected location and our fitted location and then add use this difference to correct our `solar_rotation_angle`."
   ]
  },
  {
   "cell_type": "code",
   "execution_count": null,
   "id": "86d048cb-1b57-430e-a857-2736fee2e0a0",
   "metadata": {},
   "outputs": [],
   "source": [
    "vec_image = np.array([regulus_x - im_cx, regulus_y - im_cy]).T\n",
    "vec_coord = np.array([regulus_pixel[0] - im_cx, regulus_pixel[1] - im_cy])\n",
    "fudge_angle = np.arccos((vec_image @ vec_coord) / (np.linalg.norm(vec_image) * np.linalg.norm(vec_coord)))*u.rad\n",
    "fudge_angle = fudge_angle.flat[0] * -1\n",
    "fudge_angle.to(u.deg)"
   ]
  },
  {
   "cell_type": "code",
   "execution_count": null,
   "id": "82ad7b02-95ab-4288-aa76-0897211a0135",
   "metadata": {},
   "outputs": [],
   "source": [
    "header = make_fitswcs_header(\n",
    "    im,\n",
    "    SkyCoord(0, 0, unit=u.arcsec, frame=\"helioprojective\", observer=loc.get_itrs(Time(camera_metadata[\"time\"])), obstime=camera_metadata[\"time\"]),\n",
    "    reference_pixel=u.Quantity([im_cy[0], im_cx[0]]),\n",
    "    scale=np.ones(2) * plate_scale,\n",
    "    rotation_angle=solar_rotation_angle + fudge_angle,\n",
    "    exposure=camera_metadata[\"exposure_time\"],\n",
    "    instrument=camera_metadata[\"camera_model\"],\n",
    ")"
   ]
  },
  {
   "cell_type": "code",
   "execution_count": null,
   "id": "4f8bd414-2dbf-4160-935b-4a8ebbb2a0a9",
   "metadata": {},
   "outputs": [],
   "source": [
    "eclipse_map = sunpy.map.Map(im, header)"
   ]
  },
  {
   "cell_type": "markdown",
   "id": "d01b5cf8-6d83-4647-9f07-00ac61f80731",
   "metadata": {},
   "source": [
    "We can now see that the Regulus is roughly where we expect it to be."
   ]
  },
  {
   "cell_type": "code",
   "execution_count": null,
   "id": "b8145e92-5cb9-4a2a-ad20-5716d2be7f86",
   "metadata": {},
   "outputs": [],
   "source": [
    "fig = plt.figure(figsize=(9,9))\n",
    "ax = plt.subplot(projection=eclipse_map)\n",
    "eclipse_map.plot(axes=ax, vmax=20)\n",
    "ax.plot_coord(regulus, 'o', markeredgewidth=0.5, markeredgecolor='w', \n",
    "              markerfacecolor='None', markersize=10, label='Regulus')\n",
    "eclipse_map.draw_grid(axes=ax)\n",
    "eclipse_map.draw_limb(axes=ax)\n",
    "plt.legend()\n",
    "plt.show()"
   ]
  },
  {
   "cell_type": "markdown",
   "id": "e9a16da9-2fcb-44b3-b4d9-fd1d8b1f1151",
   "metadata": {},
   "source": [
    "## Step 3 - Combine your image with Satellite data\n",
    "\n",
    "For this final flourish, we use SunPy to download a 17.1 nm image from the AIA instrument on the [SDO](https://en.wikipedia.org/wiki/Solar_Dynamics_Observatory) satellite."
   ]
  },
  {
   "cell_type": "code",
   "execution_count": null,
   "id": "11b65d64-ad25-4e22-a10a-82d593f1c572",
   "metadata": {},
   "outputs": [],
   "source": [
    "# Replace the time below with the time in UT of the eclipse\n",
    "t = a.Time('2017-08-21 17:27:00', \"2017-08-21 17:45:00\", eclipse_map.date)\n",
    "aia_result = Fido.search(t, a.Instrument('AIA'), a.Wavelength(171*u.Angstrom))\n",
    "aia_result"
   ]
  },
  {
   "cell_type": "code",
   "execution_count": null,
   "id": "9a796ebc-5680-4b2e-ba03-cc854f0e545b",
   "metadata": {},
   "outputs": [],
   "source": [
    "files = Fido.fetch(aia_result[0,0])"
   ]
  },
  {
   "cell_type": "markdown",
   "id": "eb66373e-43d1-446c-b63e-8a49f419c0b0",
   "metadata": {},
   "source": [
    "Having downloaded this data we create a sunpy Map from it, and then downsample it in resolution to make things faster."
   ]
  },
  {
   "cell_type": "code",
   "execution_count": null,
   "id": "9d98ab6c-f396-42bc-a0c5-24e30af77674",
   "metadata": {},
   "outputs": [],
   "source": [
    "aia_map = sunpy.map.Map(files[0])\n",
    "aia_map = aia_map.superpixel((4, 4)*u.pix)  # Remove this line to use the full resolution version."
   ]
  },
  {
   "cell_type": "markdown",
   "id": "6adfa8d9-25f2-4b82-a662-ce656f55aa6b",
   "metadata": {},
   "source": [
    "Before we can plot the data together we must align the images, we do this using the `reproject_to` method."
   ]
  },
  {
   "cell_type": "code",
   "execution_count": null,
   "id": "aa33be88-b8d4-4f7d-a10d-0884d694e7e6",
   "metadata": {},
   "outputs": [],
   "source": [
    "aligned_aia = aia_map.reproject_to(eclipse_map.wcs)"
   ]
  },
  {
   "cell_type": "code",
   "execution_count": null,
   "id": "fbc08f9e-b6f0-4964-a8b9-3a8ab6e61dc6",
   "metadata": {},
   "outputs": [],
   "source": [
    "fig = plt.figure(figsize=(9,9))\n",
    "ax = plt.subplot(projection=eclipse_map)\n",
    "eclipse_map.plot(axes=ax)\n",
    "eclipse_map.draw_grid(axes=ax)\n",
    "aligned_aia.plot(axes=ax)"
   ]
  }
 ],
 "metadata": {
  "kernelspec": {
   "display_name": "Python 3 (ipykernel)",
   "language": "python",
   "name": "python3"
  },
  "language_info": {
   "codemirror_mode": {
    "name": "ipython",
    "version": 3
   },
   "file_extension": ".py",
   "mimetype": "text/x-python",
   "name": "python",
   "nbconvert_exporter": "python",
   "pygments_lexer": "ipython3",
   "version": "3.11.8"
  }
 },
 "nbformat": 4,
 "nbformat_minor": 5
}
