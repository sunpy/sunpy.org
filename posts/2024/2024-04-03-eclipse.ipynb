{
 "cells": [
  {
   "cell_type": "raw",
   "id": "ec2f17fd-9023-404a-a84e-18601f14881a",
   "metadata": {
    "raw_mimetype": "text/restructuredtext"
   },
   "source": [
    ".. post:: 3 April 2024\n",
    "   :author: Stuart Mumford\n",
    "   :tags: eclipse, outreach, tutorials\n",
    "   :category: Tutorial\n",
    "   :exclude:\n",
    "\n",
    "   On 8 April 2024, a total solar eclipse will pass over Mexico, the United States, and Canada, allowing millions of people to see the highly-structured solar corona with their own eyes. Along the path of totality, many will be taking their own pictures of the eclipse. In this post we demonstrate how you can use SunPy to process your own eclipse photos!\n"
   ]
  },
  {
   "cell_type": "markdown",
   "id": "ca8586f5-bca3-4ef9-96f9-30b954e2d2a1",
   "metadata": {},
   "source": [
    "# Process Your Solar Eclipse Photos with SunPy!"
   ]
  },
  {
   "cell_type": "markdown",
   "id": "ada63743",
   "metadata": {},
   "source": [
    "On April 8th, 2024, [a total solar eclipse will pass over North America](https://science.nasa.gov/eclipses/).\n",
    "A total solar eclipse happens when the Moon passes between the Sun and Earth, completely blocking the face of the Sun.\n",
    "Only during totality, when the bright disk is completely obscured, is it possible to see with the naked eye the solar corona, the outermost layer of the Sun's atmosphere.\n",
    "The total solar eclipse will give millions across North America the chance to see and photograph the solar corona.\n",
    "\n",
    "In this blog post, we will show how you can use SunPy to process your photos of the eclipse.\n",
    "To do this, we will use an image from the 2017 solar eclipse that also passed over North America, the so-called \"Great American Eclipse\".\n",
    "We will walk through processing this image with SunPy as well as other Python libraries, so that you can generate a coordinate system for your image.\n",
    "As we will show, this allows you to combine your eclipse images with solar observations such as those from NASA's *Solar Dynamics Observatory*."
   ]
  },
  {
   "cell_type": "code",
   "execution_count": null,
   "id": "b77eac75-539b-42db-91d7-302978bf764c",
   "metadata": {},
   "outputs": [],
   "source": [
    "import numpy as np\n",
    "import matplotlib.image\n",
    "import matplotlib.pyplot as plt\n",
    "import astropy.units as u\n",
    "import scipy.ndimage as ndimage\n",
    "\n",
    "from astropy.coordinates import EarthLocation, SkyCoord\n",
    "from matplotlib.patches import Circle\n",
    "from photutils.detection import DAOStarFinder\n",
    "from skimage.color import rgb2gray\n",
    "from skimage.transform import hough_circle, hough_circle_peaks\n",
    "\n",
    "import sunpy.coordinates.sun\n",
    "import sunpy.coordinates\n",
    "from sunpy.map.header_helper import make_fitswcs_header\n",
    "from sunpy.net import Fido, attrs as a\n",
    "from sunpy.time import parse_time\n",
    "\n",
    "import exifread\n",
    "\n",
    "# We have defined a few helper functions in this `eclipse_helpers.py` file.\n",
    "from eclipse_helpers import SOLAR_ECLIPSE_IMAGE, get_camera_metadata"
   ]
  },
  {
   "cell_type": "markdown",
   "id": "ade9adf0-282b-4f55-befe-74a910333aa7",
   "metadata": {},
   "source": [
    "## Read in Your Eclipse Photo\n",
    "\n",
    "The first step is to read in our image.\n",
    "As mentioned above, we will be using an image taken during the 2017 eclipse taken with a consumer-grade camera.\n",
    "When reading in our image data, we'll invert the y-axis and convert it to a grayscale image."
   ]
  },
  {
   "cell_type": "code",
   "execution_count": null,
   "id": "dad1d5ea-2376-4708-860a-b0238f2f52d0",
   "metadata": {},
   "outputs": [],
   "source": [
    "im_rgb = np.flipud(matplotlib.image.imread(SOLAR_ECLIPSE_IMAGE))\n",
    "im = rgb2gray(im_rgb)"
   ]
  },
  {
   "cell_type": "code",
   "execution_count": null,
   "id": "1badaf27-32e4-49a2-85d2-49805ec2c634",
   "metadata": {},
   "outputs": [],
   "source": [
    "plt.imshow(im, origin=\"lower\", cmap=\"gray\")"
   ]
  },
  {
   "cell_type": "markdown",
   "id": "11ffdd39",
   "metadata": {},
   "source": [
    "In order to be able to align our image with solar images from NASA, we will also need some additional metadata from our image.\n",
    "The two most important things we need to know are:\n",
    "\n",
    "1. the GPS coordinates of where the photo was taken and\n",
    "2. the time the image was taken\n",
    "\n",
    "We can pull this metadata from the file and then use an additional function we wrote to process this metadata into a Python dictionary."
   ]
  },
  {
   "cell_type": "code",
   "execution_count": null,
   "id": "492ce99a-931a-4184-a2df-985251649c93",
   "metadata": {},
   "outputs": [],
   "source": [
    "with open(SOLAR_ECLIPSE_IMAGE, mode='rb') as f:\n",
    "    tags = exifread.process_file(f)"
   ]
  },
  {
   "cell_type": "code",
   "execution_count": null,
   "id": "e91e4da9-0efe-48a4-95ed-742164381507",
   "metadata": {},
   "outputs": [],
   "source": [
    "camera_metadata = get_camera_metadata(tags)"
   ]
  },
  {
   "cell_type": "markdown",
   "id": "42544bdb",
   "metadata": {},
   "source": [
    "As it turns out, the time on the camera used to take this eclipse photo was wrong, we have to manually correct it."
   ]
  },
  {
   "cell_type": "code",
   "execution_count": null,
   "id": "67f6cee2-3465-4d0d-9c17-82b1cfd8f12f",
   "metadata": {},
   "outputs": [],
   "source": [
    "camera_metadata[\"time\"] = parse_time('2017-08-21 17:27:13')"
   ]
  },
  {
   "cell_type": "markdown",
   "id": "4127a8f9-3230-4645-958a-0a919afea3cf",
   "metadata": {},
   "source": [
    "## Find the Sun\n",
    "\n",
    "Now that we've loaded our image and accompanying metadata, the next step is to locate the edge of the Sun in our image.\n",
    "This allows us to find the center of the Sun, which is needed when aligning our data, as well as allowing us to determine the scale of the Sun in the image.\n",
    "In order to do this we are going to use several different image manipulation techniques."
   ]
  },
  {
   "cell_type": "markdown",
   "id": "f344a583-04e3-4b96-baac-f5ddf67fd2f7",
   "metadata": {},
   "source": [
    "\n",
    "We start with applying a [Gaussian blur](https://en.wikipedia.org/wiki/Gaussian_filter) to help segment the solar disk from the corona and mask all parts of the image above a given threshold."
   ]
  },
  {
   "cell_type": "code",
   "execution_count": null,
   "id": "8d2f0870-e82c-452b-b913-9867798ddaed",
   "metadata": {},
   "outputs": [],
   "source": [
    "blur_im = ndimage.gaussian_filter(im, 8)\n",
    "mask = blur_im > blur_im.mean() * 3\n",
    "plt.imshow(mask)"
   ]
  },
  {
   "cell_type": "markdown",
   "id": "fafb44b0-7596-47e2-82ce-9b35dbdf6962",
   "metadata": {},
   "source": [
    "We then label those masked regions and select only the parts of the image that correspond to the bright, diffuse corona."
   ]
  },
  {
   "cell_type": "code",
   "execution_count": null,
   "id": "f96ebca1-5497-49f0-8b62-6e14dd3d10dd",
   "metadata": {},
   "outputs": [],
   "source": [
    "label_im, nb_labels = ndimage.label(mask)\n",
    "slice_x, slice_y = ndimage.find_objects(label_im==1)[0]\n",
    "roi = blur_im[slice_x, slice_y]"
   ]
  },
  {
   "cell_type": "markdown",
   "id": "b593879a-ff24-4d76-9641-b6ecd889ad5b",
   "metadata": {},
   "source": [
    "The next step is to detect the inner edge of the bright corona.\n",
    "To do this, we apply a [Sobel filter](https://en.wikipedia.org/wiki/Sobel_operator) in both the x and y directions, and then calculate a single image from the two directions."
   ]
  },
  {
   "cell_type": "code",
   "execution_count": null,
   "id": "1d35a94e-c1af-4021-8501-c7143f9191bf",
   "metadata": {},
   "outputs": [],
   "source": [
    "sx = ndimage.sobel(roi, axis=0, mode='constant')\n",
    "sy = ndimage.sobel(roi, axis=1, mode='constant')\n",
    "sob = np.hypot(sx, sy)"
   ]
  },
  {
   "cell_type": "markdown",
   "id": "a171d95f-3397-497e-ad81-e25041251b89",
   "metadata": {},
   "source": [
    "Finally, we use scikit-image to apply the [Hough Transform](https://en.wikipedia.org/wiki/Hough_transform) to identify circles in the image.\n",
    "We then use this to extract the size in pixels of the solar disk and its center."
   ]
  },
  {
   "cell_type": "code",
   "execution_count": null,
   "id": "a9f5be9b-585d-4b6d-b3bf-9ed06037c8ee",
   "metadata": {},
   "outputs": [],
   "source": [
    "hough_radii = np.arange(np.floor(np.mean(sob.shape)/4), np.ceil(np.mean(sob.shape)/2), 10)\n",
    "hough_res = hough_circle(sob > (sob.mean() * 5), hough_radii)\n",
    "\n",
    "# Select the most prominent circle\n",
    "accums, cy, cx, radii = hough_circle_peaks(hough_res, hough_radii, total_num_peaks=1)"
   ]
  },
  {
   "cell_type": "markdown",
   "id": "8df7c20e-e4b4-4537-b58b-5b3001df7913",
   "metadata": {},
   "source": [
    "As shown below, we now have a list of pixel coordinates corresponding to the solar limb in our image.\n",
    "The first frame is the cropped original image.\n",
    "The middle frame is the Sobel filtered image used to apply the Hough transform.\n",
    "The right frame is the fitted circle on the original image."
   ]
  },
  {
   "cell_type": "code",
   "execution_count": null,
   "id": "e293b495-74f9-4a53-b904-4da5084dde62",
   "metadata": {},
   "outputs": [],
   "source": [
    "fig, ax = plt.subplots(ncols=3, nrows=1, figsize=(9.5, 6))\n",
    "ax[0].imshow(im[slice_x, slice_y])\n",
    "ax[0].set_title('Original')\n",
    "ax[1].imshow(sob > (sob.mean() * 5))\n",
    "ax[1].set_title('Sobel')\n",
    "circ = Circle([cy, cx], radius=radii, facecolor='none', edgecolor='red', linewidth=2, label='Hough fit')\n",
    "ax[2].imshow(im[slice_x, slice_y])\n",
    "ax[2].add_patch(circ)\n",
    "ax[2].set_title('Original with fit')\n",
    "plt.legend()"
   ]
  },
  {
   "cell_type": "markdown",
   "id": "c18ed50e-1ad3-4df2-a182-5d86f39ade26",
   "metadata": {},
   "source": [
    "Lastly, let's add units to our circle that we fit the solar limb."
   ]
  },
  {
   "cell_type": "code",
   "execution_count": null,
   "id": "ed676a8f-a6f2-4726-8f24-d69dfd9fa2c3",
   "metadata": {},
   "outputs": [],
   "source": [
    "im_cx = (cx + slice_x.start) * u.pix\n",
    "im_cy = (cy + slice_y.start) * u.pix\n",
    "im_radius = radii * u.pix"
   ]
  },
  {
   "cell_type": "markdown",
   "id": "6e315eab",
   "metadata": {},
   "source": [
    "## Make a SunPy `Map`"
   ]
  },
  {
   "cell_type": "markdown",
   "id": "a61bd22f-57f1-4379-82e2-45ae1a343fbb",
   "metadata": {},
   "source": [
    "At this point, we have our image data, it's metadata and we've located the Sun.\n",
    "Now we are ready to load our eclipse photograph into a SunPy `Map`!\n",
    "A `Map` allows us to carry around both the data and metadata of our image together and, importantly, makes it easy to combine solar observations from multiple observatories."
   ]
  },
  {
   "cell_type": "markdown",
   "id": "c7fbab37",
   "metadata": {},
   "source": [
    "First, we need to know the [angular size](https://en.wikipedia.org/wiki/Angular_diameter) of the Sun.\n",
    "Thankfully, we can use sunpy to calculate the angular size of the solar disk as seen from Earth at the time we took our photograph."
   ]
  },
  {
   "cell_type": "code",
   "execution_count": null,
   "id": "5921e454-b838-4124-83b8-71b094f11c36",
   "metadata": {},
   "outputs": [],
   "source": [
    "rsun_obs = sunpy.coordinates.sun.angular_radius(camera_metadata[\"time\"])\n",
    "print(rsun_obs)"
   ]
  },
  {
   "cell_type": "markdown",
   "id": "d365d554-96bd-4fc9-bc84-60f0771a6c66",
   "metadata": {},
   "source": [
    "Combining this angular radius with the radius of the solar disc in pixels gives us the angular size of the pixels in the image.\n",
    "In the parlance of astronomical imaging, this is often referred to as the *plate scale*."
   ]
  },
  {
   "cell_type": "code",
   "execution_count": null,
   "id": "cd13d560-3bda-46bb-bf5f-b86971a00ff6",
   "metadata": {},
   "outputs": [],
   "source": [
    "plate_scale = rsun_obs / im_radius[0]\n",
    "print(plate_scale)"
   ]
  },
  {
   "cell_type": "markdown",
   "id": "bd49ea6d-14a1-4591-bcda-c2b1949b0e8f",
   "metadata": {},
   "source": [
    "The last two pieces of information we need, are the location of our observer (i.e., where on Earth did we take our picture?) and the orientation of the Sun in the sky.\n",
    "For the observer location, we can use the GPS coordinates from our image metadata."
   ]
  },
  {
   "cell_type": "code",
   "execution_count": null,
   "id": "f5313fe8",
   "metadata": {},
   "outputs": [],
   "source": [
    "loc = EarthLocation(lat=camera_metadata[\"gps\"][0], lon=camera_metadata[\"gps\"][1])"
   ]
  },
  {
   "cell_type": "markdown",
   "id": "4044ce0d",
   "metadata": {},
   "source": [
    "We can then use that location to calculate the orientation of the Sun as seen from that location on Earth.\n",
    "This gives us a rotation angle between our image coordinate system and the solar north pole.\n",
    "If your camera is not perfectly horizontal then you may need to fudge this value slightly."
   ]
  },
  {
   "cell_type": "code",
   "execution_count": null,
   "id": "8f7a5a79-9b2f-44b4-a2a3-83f9855ed6d7",
   "metadata": {},
   "outputs": [],
   "source": [
    "solar_rotation_angle = sunpy.coordinates.sun.orientation(loc, camera_metadata[\"time\"])\n",
    "print(solar_rotation_angle)"
   ]
  },
  {
   "cell_type": "markdown",
   "id": "7d1ae037-71e9-4bb5-a3c6-a95cbf887f48",
   "metadata": {},
   "source": [
    "Finally we have all the information we need to build a sunpy `Map` for our eclipse image."
   ]
  },
  {
   "cell_type": "code",
   "execution_count": null,
   "id": "d2ae1459-e44f-499f-a6b1-9f30cdb5db34",
   "metadata": {},
   "outputs": [],
   "source": [
    "frame = sunpy.coordinates.Helioprojective(observer=loc.get_itrs(camera_metadata[\"time\"]),\n",
    "                                          obstime=camera_metadata[\"time\"])\n",
    "header = make_fitswcs_header(\n",
    "    im,\n",
    "    SkyCoord(0, 0, unit=u.arcsec, frame=frame),\n",
    "    reference_pixel=u.Quantity([im_cy[0], im_cx[0]]),\n",
    "    scale=u.Quantity([plate_scale, plate_scale]),\n",
    "    rotation_angle=solar_rotation_angle,\n",
    "    exposure=camera_metadata.get(\"exposure_time\"),\n",
    "    instrument=camera_metadata.get(\"camera_model\"),\n",
    "    observatory=camera_metadata.get(\"author\"),\n",
    ")"
   ]
  },
  {
   "cell_type": "code",
   "execution_count": null,
   "id": "0fa1f6f2-1890-476e-845d-29e0147e7df9",
   "metadata": {},
   "outputs": [],
   "source": [
    "eclipse_map = sunpy.map.Map(im, header)"
   ]
  },
  {
   "cell_type": "code",
   "execution_count": null,
   "id": "e88569f8-c717-4b6a-a76e-7237403cb74f",
   "metadata": {},
   "outputs": [],
   "source": [
    "eclipse_map.plot()"
   ]
  },
  {
   "cell_type": "markdown",
   "id": "3bb5a923-0c08-4a6a-8766-f6caef7b147a",
   "metadata": {},
   "source": [
    "## Find the Stars\n",
    "\n",
    "Though we already have all of the metadata we need to make a SunPy `Map`, we can further improve the accuracy by \n",
    "locating a known star in the image and using that to determine the rotation angle.\n",
    "In the case of the 2017 eclipse the very bright star (magnitude 1.4) [Regulus](https://en.wikipedia.org/wiki/Regulus) was close to the Sun and in the field of view of our photograph.\n",
    "For the 2024 eclipse, no such bright star will be visible, which may make this method of aligning your image challenging.\n",
    "The best candidate looks to be [Alpha Piscium](https://en.wikipedia.org/wiki/Alpha_Piscium) which is a binary system with a combined magnitude of 3.82, significantly dimmer than Regulus.\n",
    "You can see the stars close to the Sun by using [Stellarium](https://stellarium-web.org/skysource/Sun?fov=1.1092&amp;date=2024-04-08T18:30:47Z&amp;lat=28.86&amp;lng=-100.53&amp;elev=0)."
   ]
  },
  {
   "cell_type": "markdown",
   "id": "f7b776e1-73bd-4128-a5ab-5bfeac02d9c1",
   "metadata": {},
   "source": [
    "As Regulus is a well known star, we can create a coordinate object for it, including its distance."
   ]
  },
  {
   "cell_type": "code",
   "execution_count": null,
   "id": "42116a03-dfeb-40fc-9984-de33a779164c",
   "metadata": {},
   "outputs": [],
   "source": [
    "regulus = SkyCoord(ra='10h08m22.311s', dec='11d58m01.95s', distance=79.3 * u.lightyear, frame='icrs')\n",
    "print(regulus)"
   ]
  },
  {
   "cell_type": "markdown",
   "id": "7adb201e-c252-417b-98c1-8197727f7cfa",
   "metadata": {},
   "source": [
    "We can then plot the expected location of Regulus on our eclipse image.\n",
    "We set the scaling such that it make Regulus more visible and zoom in on the relevant part of the field of view.\n",
    "You can see that the expected location and the actual location are quite different."
   ]
  },
  {
   "cell_type": "code",
   "execution_count": null,
   "id": "081b463c-b57e-4673-ae89-6b11c9786753",
   "metadata": {},
   "outputs": [],
   "source": [
    "fig = plt.figure(figsize=(9,9))\n",
    "ax = plt.subplot(projection=eclipse_map)\n",
    "eclipse_map.plot(axes=ax, clip_interval=(0,90)*u.percent)\n",
    "ax.plot_coord(regulus, 'o', markeredgewidth=0.5, markeredgecolor='w',\n",
    "              markerfacecolor='None', markersize=10, label='Regulus')\n",
    "eclipse_map.draw_grid(axes=ax)\n",
    "eclipse_map.draw_limb(axes=ax)\n",
    "plt.legend()\n",
    "plt.xlim(100,500)\n",
    "plt.ylim(0,500)\n",
    "plt.show()"
   ]
  },
  {
   "cell_type": "markdown",
   "id": "da1e68b3-ec1b-478c-b03d-26daf4512ef3",
   "metadata": {},
   "source": [
    "Given this offset, we want to fix our image metadata such that the actual and expected locations of Regulus are line up.\n",
    "We can calculate the expected distance from the center of the Sun to Regulus in pixels."
   ]
  },
  {
   "cell_type": "code",
   "execution_count": null,
   "id": "f81ccc13-3f5d-469c-af6a-bb29c7155f6e",
   "metadata": {},
   "outputs": [],
   "source": [
    "regulus_pixel = eclipse_map.wcs.world_to_pixel(regulus) * u.pix\n",
    "regulus_r = np.sqrt((regulus_pixel[0] - im_cx)**2 + (regulus_pixel[1] - im_cy)**2)\n",
    "print(regulus_r)"
   ]
  },
  {
   "cell_type": "markdown",
   "id": "4c5740b8",
   "metadata": {},
   "source": [
    "We then use this to find Regulus in our image, by filtering out all pixels which are closer to the Sun than this."
   ]
  },
  {
   "cell_type": "code",
   "execution_count": null,
   "id": "fdb875fe-5924-4e59-b554-70e18d66860d",
   "metadata": {},
   "outputs": [],
   "source": [
    "pix_x = np.arange((eclipse_map.dimensions[0]).value) - im_cy.value\n",
    "pix_y = np.arange((eclipse_map.dimensions[1]).value) - im_cx.value\n",
    "xx, yy = np.meshgrid(pix_x, pix_y)\n",
    "r = np.sqrt(xx**2 + yy**2)\n",
    "\n",
    "filter_r = regulus_r - (regulus_r/5)\n",
    "\n",
    "masked = im.copy()\n",
    "masked[r < filter_r.value] = masked.min()"
   ]
  },
  {
   "cell_type": "markdown",
   "id": "996a35c2-a924-479f-ac26-bfb0a4ad1702",
   "metadata": {},
   "source": [
    "Having masked out most of the Sun and its corona, we now use the [photutils](https://photutils.readthedocs.io/en/stable/index.html) package to identify stars in the image.\n",
    "With some tweaking of the parameters, we make it so it only finds Regulus."
   ]
  },
  {
   "cell_type": "code",
   "execution_count": null,
   "id": "5c5715a7-c417-4f1b-b0e9-7c582096686b",
   "metadata": {},
   "outputs": [],
   "source": [
    "daofind = DAOStarFinder(fwhm=3.0, threshold=masked.max()/2)\n",
    "sources = daofind(masked)\n",
    "print(sources)"
   ]
  },
  {
   "cell_type": "code",
   "execution_count": null,
   "id": "c6b08de4-f887-4f53-9d08-a84c6a1153d0",
   "metadata": {},
   "outputs": [],
   "source": [
    "regulus_x, regulus_y = sources[0]['xcentroid'] * u.pix, sources[0]['ycentroid'] * u.pix"
   ]
  },
  {
   "cell_type": "markdown",
   "id": "65f03ad3-f368-4c82-88c3-939a6e6d3e17",
   "metadata": {},
   "source": [
    "We can now compare the identified pixel coordinates of Regulus to the expected coordinates from our fitted coordinate system."
   ]
  },
  {
   "cell_type": "code",
   "execution_count": null,
   "id": "063c5d20-2587-4b0b-a33b-31876f89cd74",
   "metadata": {},
   "outputs": [],
   "source": [
    "print(regulus_pixel[0], regulus_x)\n",
    "print(regulus_pixel[1], regulus_y)"
   ]
  },
  {
   "cell_type": "markdown",
   "id": "27d2d78a-3d12-4d0a-a4aa-72b6358fe9c9",
   "metadata": {},
   "source": [
    "Finally, we calculate the angular offset between our expected location and our fitted location and then add this difference to correct our solar rotation angle."
   ]
  },
  {
   "cell_type": "code",
   "execution_count": null,
   "id": "86d048cb-1b57-430e-a857-2736fee2e0a0",
   "metadata": {},
   "outputs": [],
   "source": [
    "vec_image = np.array([regulus_x - im_cx, regulus_y - im_cy]).T\n",
    "vec_coord = np.array([regulus_pixel[0] - im_cx, regulus_pixel[1] - im_cy])\n",
    "fudge_angle = np.arccos((vec_image @ vec_coord) / (np.linalg.norm(vec_image) * np.linalg.norm(vec_coord)))*u.rad\n",
    "fudge_angle = fudge_angle.flat[0] * -1\n",
    "print(fudge_angle.to(u.deg))"
   ]
  },
  {
   "cell_type": "markdown",
   "id": "af18ebab",
   "metadata": {},
   "source": [
    "We then use this correction factor to build a new `Map` for our image with updated metadata."
   ]
  },
  {
   "cell_type": "code",
   "execution_count": null,
   "id": "82ad7b02-95ab-4288-aa76-0897211a0135",
   "metadata": {},
   "outputs": [],
   "source": [
    "header = make_fitswcs_header(\n",
    "    im,\n",
    "    SkyCoord(0, 0, unit=u.arcsec, frame=frame),\n",
    "    reference_pixel=u.Quantity([im_cy[0], im_cx[0]]),\n",
    "    scale=u.Quantity([plate_scale, plate_scale]),\n",
    "    rotation_angle=solar_rotation_angle + fudge_angle,\n",
    "    exposure=camera_metadata[\"exposure_time\"],\n",
    "    instrument=camera_metadata[\"camera_model\"],\n",
    ")"
   ]
  },
  {
   "cell_type": "code",
   "execution_count": null,
   "id": "4f8bd414-2dbf-4160-935b-4a8ebbb2a0a9",
   "metadata": {},
   "outputs": [],
   "source": [
    "eclipse_map = sunpy.map.Map(im, header)"
   ]
  },
  {
   "cell_type": "markdown",
   "id": "d01b5cf8-6d83-4647-9f07-00ac61f80731",
   "metadata": {},
   "source": [
    "Plotting our image again, we now find that the identified location of Regulus and our image line up much better."
   ]
  },
  {
   "cell_type": "code",
   "execution_count": null,
   "id": "b8145e92-5cb9-4a2a-ad20-5716d2be7f86",
   "metadata": {},
   "outputs": [],
   "source": [
    "fig = plt.figure(figsize=(9,9))\n",
    "ax = plt.subplot(projection=eclipse_map)\n",
    "eclipse_map.plot(axes=ax, clip_interval=(0,90)*u.percent)\n",
    "ax.plot_coord(regulus, 'o', markeredgewidth=0.5, markeredgecolor='w',\n",
    "              markerfacecolor='None', markersize=10, label='Regulus')\n",
    "eclipse_map.draw_grid(axes=ax)\n",
    "eclipse_map.draw_limb(axes=ax)\n",
    "plt.legend()\n",
    "plt.xlim(100,500)\n",
    "plt.ylim(0,500)\n",
    "plt.show()"
   ]
  },
  {
   "cell_type": "markdown",
   "id": "e9a16da9-2fcb-44b3-b4d9-fd1d8b1f1151",
   "metadata": {},
   "source": [
    "## Combine your Image with NASA Data\n",
    "\n",
    "As mentioned above, one of the main advantages of having data in a `Map` is that it is then easy to combine observations from multiple different sources.\n",
    "Let's overlay an AIA image from the [SDO](https://en.wikipedia.org/wiki/Solar_Dynamics_Observatory) satellite.\n",
    "We'll choose an image that shows extreme ultraviolet emission from the corona, revealing plasma that is around one million degrees.\n",
    "Fortunately, all SDO data is publicly available and SunPy provides a convenient interface for searching for and downloading this data."
   ]
  },
  {
   "cell_type": "code",
   "execution_count": null,
   "id": "11b65d64-ad25-4e22-a10a-82d593f1c572",
   "metadata": {},
   "outputs": [],
   "source": [
    "aia_result = Fido.search(\n",
    "    a.Time('2017-08-21 17:27:00', \"2017-08-21 17:45:00\", eclipse_map.date),\n",
    "    a.Instrument('AIA'),\n",
    "    a.Wavelength(171*u.Angstrom)\n",
    ")\n",
    "print(aia_result)"
   ]
  },
  {
   "cell_type": "code",
   "execution_count": null,
   "id": "9a796ebc-5680-4b2e-ba03-cc854f0e545b",
   "metadata": {},
   "outputs": [],
   "source": [
    "files = Fido.fetch(aia_result[0,0])"
   ]
  },
  {
   "cell_type": "markdown",
   "id": "eb66373e-43d1-446c-b63e-8a49f419c0b0",
   "metadata": {},
   "source": [
    "Having downloaded this data we create a SunPy `Map` and then plot it on top of our eclipse image.\n",
    "Note that despite not being in the same coordinate system, our AIA `Map` is automatically transformed to the coordinate system of our image before plotting."
   ]
  },
  {
   "cell_type": "code",
   "execution_count": null,
   "id": "9d98ab6c-f396-42bc-a0c5-24e30af77674",
   "metadata": {},
   "outputs": [],
   "source": [
    "aia_map = sunpy.map.Map(files[0])"
   ]
  },
  {
   "cell_type": "code",
   "execution_count": null,
   "id": "fbc08f9e-b6f0-4964-a8b9-3a8ab6e61dc6",
   "metadata": {},
   "outputs": [],
   "source": [
    "fig = plt.figure(figsize=(9,9))\n",
    "ax = plt.subplot(projection=eclipse_map)\n",
    "eclipse_map.plot(axes=ax)\n",
    "aia_map.plot(axes=ax, autoalign=True)\n",
    "aia_map.draw_grid(axes=ax)"
   ]
  },
  {
   "cell_type": "markdown",
   "id": "d0f30eaa",
   "metadata": {},
   "source": [
    "## Conclusion"
   ]
  },
  {
   "cell_type": "markdown",
   "id": "29d8e979",
   "metadata": {},
   "source": [
    "In this blog post, we demonstrated how to read your eclipse images into a SunPy `Map` and how to combine your own photographs with data from NASA observations of the Sun.\n",
    "Though this post used data from the 2017 eclipse, you should be able to use the same techniques to process your 2024 eclipse observations.\n",
    "Happy eclipse viewing!"
   ]
  }
 ],
 "metadata": {
  "kernelspec": {
   "display_name": "Python 3 (ipykernel)",
   "language": "python",
   "name": "python3"
  },
  "language_info": {
   "codemirror_mode": {
    "name": "ipython",
    "version": 3
   },
   "file_extension": ".py",
   "mimetype": "text/x-python",
   "name": "python",
   "nbconvert_exporter": "python",
   "pygments_lexer": "ipython3",
   "version": "3.11.4"
  }
 },
 "nbformat": 4,
 "nbformat_minor": 5
}
