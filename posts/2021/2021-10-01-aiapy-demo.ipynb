{
 "cells": [
  {
   "cell_type": "markdown",
   "metadata": {},
   "source": [
    "# aiapy: A SunPy affiliated package for analyzing data from the Atmospheric Imaging Assembly (AIA)"
   ]
  },
  {
   "cell_type": "raw",
   "metadata": {
    "raw_mimetype": "text/restructuredtext"
   },
   "source": [
    ".. post:: 28 Oct 2021\n",
    "   :author: Will Barnes, Mark Cheung\n",
    "   :tags: affiliated-package, instrument\n",
    "   :category: Update\n",
    "   :exclude:\n",
    "   \n",
    "   `aiapy` is a SunPy affiliated package for analyzing EUV image data from the Atmospheric Imaging Assembly (AIA).\n",
    "    It includes a number of of functions for calibrating images, correcting metadata, and analyzing the filter bandpasses.\n",
    "    In this post, we show some examples of the different capabilities of the `aiapy` package."
   ]
  },
  {
   "cell_type": "markdown",
   "metadata": {},
   "source": [
    "## aiapy showcase\n",
    "\n",
    "`aiapy` is a SunPy affiliated package for analyzing EUV image data from the Atmospheric Imaging Assembly (AIA).\n",
    "It includes a number of of functions for calibrating images, correcting metadata, and analyzing the filter bandpasses.\n",
    "In this post, we show some examples of the different capabilities of the `aiapy` package.\n",
    "\n",
    "Resources\n",
    "---------------\n",
    "\n",
    "- [Source code](https://gitlab.com/LMSAL_HUB/aia_hub/aiapy)\n",
    "- [Documentation](https://aiapy.readthedocs.io/en/stable/)\n",
    "- [JOSS paper](https://joss.theoj.org/papers/10.21105/joss.02801)"
   ]
  },
  {
   "cell_type": "code",
   "execution_count": null,
   "metadata": {},
   "outputs": [],
   "source": [
    "import numpy as np\n",
    "import matplotlib.pyplot as plt\n",
    "from sunpy.net import Fido, attrs as a\n",
    "import sunpy.map\n",
    "import astropy.units as u\n",
    "from astropy.coordinates import SkyCoord\n",
    "import astropy.time\n",
    "from astropy.visualization import time_support\n",
    "\n",
    "from aiapy.calibrate import (register,update_pointing,correct_degradation,\n",
    "                             degradation,normalize_exposure, respike, fetch_spikes)\n",
    "\n",
    "from aiapy.response import Channel\n",
    "\n",
    "import matplotlib as mpl\n",
    "# Increases the figure size in this notebook.\n",
    "mpl.rcParams[\"savefig.dpi\"] = 150\n",
    "mpl.rcParams[\"figure.dpi\"] = 150"
   ]
  },
  {
   "cell_type": "markdown",
   "metadata": {},
   "source": [
    "Query 2-3 AIA images from different wavelengths and create [`sunpy.map.Map`](https://docs.sunpy.org/en/stable/code_ref/map.html) objects."
   ]
  },
  {
   "cell_type": "code",
   "execution_count": null,
   "metadata": {},
   "outputs": [],
   "source": [
    "t_start = astropy.time.Time('2012-01-01T00:00:00')\n",
    "search_results = Fido.search(\n",
    "    a.Time(t_start, t_start+11*u.s),\n",
    "    a.Instrument('AIA'),\n",
    "    a.Wavelength(171*u.angstrom) | a.Wavelength(335*u.angstrom),\n",
    ")\n",
    "search_results"
   ]
  },
  {
   "cell_type": "code",
   "execution_count": null,
   "metadata": {},
   "outputs": [],
   "source": [
    "files = Fido.fetch(search_results,max_conn=1)"
   ]
  },
  {
   "cell_type": "code",
   "execution_count": null,
   "metadata": {},
   "outputs": [],
   "source": [
    "m_171, m_335 = sunpy.map.Map(sorted(files))"
   ]
  },
  {
   "cell_type": "markdown",
   "metadata": {},
   "source": [
    "## Respiking Level 1 Images"
   ]
  },
  {
   "cell_type": "markdown",
   "metadata": {},
   "source": [
    "Respiking an AIA image is quite straightfoward."
   ]
  },
  {
   "cell_type": "code",
   "execution_count": null,
   "metadata": {},
   "outputs": [],
   "source": [
    "m_171_respiked = respike(m_171)"
   ]
  },
  {
   "cell_type": "code",
   "execution_count": null,
   "metadata": {},
   "outputs": [],
   "source": [
    "fig = plt.figure(figsize=(10,10))\n",
    "ax1 = fig.add_subplot(1, 2, 1, projection=m_171)\n",
    "m_171.plot(axes=ax1)\n",
    "\n",
    "ax2 = fig.add_subplot(1, 2, 2, projection=m_171)\n",
    "m_171_respiked.plot(axes=ax2)\n",
    "\n",
    "ax1.set_title(\"Original Level 1\")\n",
    "ax2.set_title(\"Respiked Image\")\n",
    "ax1.set_axis_off()\n",
    "ax2.set_axis_off()"
   ]
  },
  {
   "cell_type": "markdown",
   "metadata": {},
   "source": [
    "If we histogram the intensity values before and after, the changes very obvious."
   ]
  },
  {
   "cell_type": "code",
   "execution_count": null,
   "metadata": {},
   "outputs": [],
   "source": [
    "pix, vals = fetch_spikes(m_171)"
   ]
  },
  {
   "cell_type": "code",
   "execution_count": null,
   "metadata": {},
   "outputs": [],
   "source": [
    "plt.hist(m_171.data[pix.y.value.round().astype(int),\n",
    "                    pix.x.value.round().astype(int)].flatten(), log=True, bins='scott', histtype='step', label='Despiked');\n",
    "plt.hist(vals, log=True, bins='scott', histtype='step', label='Respiked');\n",
    "plt.legend()\n",
    "plt.xlabel('Intensity [DN]')\n",
    "plt.ylabel('Frequency')"
   ]
  },
  {
   "cell_type": "markdown",
   "metadata": {},
   "source": [
    "If we want to get the locations of the spikes, we can do the following:"
   ]
  },
  {
   "cell_type": "code",
   "execution_count": null,
   "metadata": {},
   "outputs": [],
   "source": [
    "m_171_cutout = m_171.submap(\n",
    "    SkyCoord(-600*u.arcsec, -600*u.arcsec, frame=m_171.coordinate_frame),\n",
    "    top_right=SkyCoord(100*u.arcsec, 100*u.arcsec, frame=m_171.coordinate_frame),\n",
    ")"
   ]
  },
  {
   "cell_type": "code",
   "execution_count": null,
   "metadata": {},
   "outputs": [],
   "source": [
    "spike_coords, _ = fetch_spikes(m_171_cutout, as_coords=True)"
   ]
  },
  {
   "cell_type": "code",
   "execution_count": null,
   "metadata": {},
   "outputs": [],
   "source": [
    "fig = plt.figure(figsize=(10,10))\n",
    "ax = fig.add_subplot(1, 1, 1, projection=m_171_cutout)\n",
    "ax.plot_coord(spike_coords, 'o', color='C0', fillstyle='none', markersize=5)\n",
    "m_171_cutout.plot(axes=ax)"
   ]
  },
  {
   "cell_type": "markdown",
   "metadata": {},
   "source": [
    "## Transforming Level 1 Images to Level 1.5"
   ]
  },
  {
   "cell_type": "markdown",
   "metadata": {},
   "source": [
    "If you want to use lots of AIA images and compare them to each other, you will need to create level 1.5 data.\n",
    "\n",
    "We can do the following steps to do that:\n",
    "\n",
    "1. Update the pointing"
   ]
  },
  {
   "cell_type": "code",
   "execution_count": null,
   "metadata": {},
   "outputs": [],
   "source": [
    "m_171.reference_pixel"
   ]
  },
  {
   "cell_type": "code",
   "execution_count": null,
   "metadata": {},
   "outputs": [],
   "source": [
    "m_171 = update_pointing(m_171)"
   ]
  },
  {
   "cell_type": "code",
   "execution_count": null,
   "metadata": {},
   "outputs": [],
   "source": [
    "m_171.reference_pixel"
   ]
  },
  {
   "cell_type": "markdown",
   "metadata": {},
   "source": [
    "2. Image registration "
   ]
  },
  {
   "cell_type": "code",
   "execution_count": null,
   "metadata": {},
   "outputs": [],
   "source": [
    "m_171.scale"
   ]
  },
  {
   "cell_type": "code",
   "execution_count": null,
   "metadata": {},
   "outputs": [],
   "source": [
    "m_171.rotation_matrix"
   ]
  },
  {
   "cell_type": "code",
   "execution_count": null,
   "metadata": {},
   "outputs": [],
   "source": [
    "m_171_lvl15 = register(m_171)"
   ]
  },
  {
   "cell_type": "markdown",
   "metadata": {},
   "source": [
    "Note that you can combine these two operations into a \"prep\" function to imitate `aiaprep.pro`"
   ]
  },
  {
   "cell_type": "code",
   "execution_count": null,
   "metadata": {},
   "outputs": [],
   "source": [
    "def prep(smap):\n",
    "    return register(update_pointing(smap))"
   ]
  },
  {
   "cell_type": "code",
   "execution_count": null,
   "metadata": {},
   "outputs": [],
   "source": [
    "m_335_lvl15 = prep(m_335)"
   ]
  },
  {
   "cell_type": "code",
   "execution_count": null,
   "metadata": {},
   "outputs": [],
   "source": [
    "print(m_171_lvl15.scale)\n",
    "print(m_335_lvl15.scale)"
   ]
  },
  {
   "cell_type": "code",
   "execution_count": null,
   "metadata": {},
   "outputs": [],
   "source": [
    "print(m_171_lvl15.rotation_matrix)\n",
    "print(m_335_lvl15.rotation_matrix)"
   ]
  },
  {
   "cell_type": "markdown",
   "metadata": {},
   "source": [
    "## Degradation Correction"
   ]
  },
  {
   "cell_type": "markdown",
   "metadata": {},
   "source": [
    "As all things do in life do, they age, fail and deteriorate until they die.\n",
    "\n",
    "While we can't fix death, we can fix AIA filter degradation."
   ]
  },
  {
   "cell_type": "markdown",
   "metadata": {},
   "source": [
    "The function `degradation`, will allow you pass in a filter wavelength and a time period."
   ]
  },
  {
   "cell_type": "code",
   "execution_count": null,
   "metadata": {},
   "outputs": [],
   "source": [
    "t_begin = astropy.time.Time('2010-03-25T00:00:00')\n",
    "now = astropy.time.Time.now()\n",
    "time_window = t_begin + np.arange(0, (now - t_begin).to(u.day).value, 7) * u.day\n",
    "\n",
    "d_335 = degradation(335*u.angstrom, time_window)"
   ]
  },
  {
   "cell_type": "markdown",
   "metadata": {},
   "source": [
    "We can also look at older versions of the calibration to see how the predicted degradation has changed. Note that the default version in `v0.6.0` of aiapy is 9."
   ]
  },
  {
   "cell_type": "code",
   "execution_count": null,
   "metadata": {},
   "outputs": [],
   "source": [
    "d_335_v8 = degradation(335*u.angstrom, time_window, calibration_version=8)"
   ]
  },
  {
   "cell_type": "markdown",
   "metadata": {},
   "source": [
    "And compare the two degradation curves as a function of time over the lifetime of the mission."
   ]
  },
  {
   "cell_type": "code",
   "execution_count": null,
   "metadata": {},
   "outputs": [],
   "source": [
    "with time_support(format='jyear'):\n",
    "    plt.plot(t,d_335,label='v9')\n",
    "    plt.plot(t,d_335_v8,label='v8')\n",
    "    plt.plot(m_335.date[np.newaxis], degradation(335*u.angstrom, m_335.date),\n",
    "             linestyle='', marker='.', color='C0', markersize=15, label=m_335.date)\n",
    "plt.ylabel('Degradation 335 $\\mathrm{\\AA}$')\n",
    "plt.legend()"
   ]
  },
  {
   "cell_type": "markdown",
   "metadata": {},
   "source": [
    "Note that we can pass an image into the `correct_degradation` function in order to correct the whole image."
   ]
  },
  {
   "cell_type": "code",
   "execution_count": null,
   "metadata": {},
   "outputs": [],
   "source": [
    "m_335_corrected = correct_degradation(m_335)"
   ]
  },
  {
   "cell_type": "code",
   "execution_count": null,
   "metadata": {},
   "outputs": [],
   "source": [
    "fig = plt.figure(figsize=(10,10))\n",
    "ax = fig.add_subplot(121,projection=m_335)\n",
    "m_335.plot(axes=ax,vmin=0,vmax=200,title='Uncorrected')\n",
    "ax.set_axis_off()\n",
    "ax = fig.add_subplot(122,projection=m_335_corrected)\n",
    "m_335_corrected.plot(axes=ax,vmin=0,vmax=100,title='Corrected')\n",
    "ax.set_axis_off()"
   ]
  },
  {
   "cell_type": "markdown",
   "metadata": {},
   "source": [
    "## Exposure Time Normalization\n",
    "\n",
    "A common process is to normalize the counts on the exposure time."
   ]
  },
  {
   "cell_type": "code",
   "execution_count": null,
   "metadata": {},
   "outputs": [],
   "source": [
    "m_171_lvl15.exposure_time"
   ]
  },
  {
   "cell_type": "code",
   "execution_count": null,
   "metadata": {},
   "outputs": [],
   "source": [
    "m_171_norm = normalize_exposure(m_171_lvl15)"
   ]
  },
  {
   "cell_type": "code",
   "execution_count": null,
   "metadata": {},
   "outputs": [],
   "source": [
    "m_171_norm.exposure_time"
   ]
  },
  {
   "cell_type": "markdown",
   "metadata": {},
   "source": [
    "## Wavelength Response Functions"
   ]
  },
  {
   "cell_type": "markdown",
   "metadata": {},
   "source": [
    "We can calculate the wavelength response for a single channel, as well as the components of it, and then show all channels."
   ]
  },
  {
   "cell_type": "code",
   "execution_count": null,
   "metadata": {},
   "outputs": [],
   "source": [
    "c = Channel(m_335.wavelength)"
   ]
  },
  {
   "cell_type": "code",
   "execution_count": null,
   "metadata": {},
   "outputs": [],
   "source": [
    "r = c.wavelength_response()\n",
    "r_time = c.wavelength_response(obstime=m_335.date)\n",
    "r_time_eve = c.wavelength_response(obstime=m_335.date, include_eve_correction=True)"
   ]
  },
  {
   "cell_type": "code",
   "execution_count": null,
   "metadata": {},
   "outputs": [],
   "source": [
    "plt.plot(c.wavelength,r,label='Uncorrected')\n",
    "plt.plot(c.wavelength,r_time,label='Time Correction')\n",
    "plt.plot(c.wavelength,r_time_eve,label='Time + EVE Correction')\n",
    "plt.xlim([315,355])\n",
    "plt.ylim([0,0.03])\n",
    "plt.xlabel('Wavelength [$\\mathrm{\\AA}$]')\n",
    "plt.ylabel(f'Wavelength Response [{r.unit.to_string(format=\"latex\")}]')\n",
    "plt.legend(frameon=False)"
   ]
  },
  {
   "cell_type": "markdown",
   "metadata": {},
   "source": [
    "We hope this showcase was really helpful!\n",
    "`aiapy` is under development and we would appreciate users, feedback and feature requests on [GitLab](https://gitlab.com/LMSAL_HUB/aia_hub/aiapy/-/issues)."
   ]
  }
 ],
 "metadata": {
  "kernelspec": {
   "display_name": "Python 3 (ipykernel)",
   "language": "python",
   "name": "python3"
  },
  "language_info": {
   "codemirror_mode": {
    "name": "ipython",
    "version": 3
   },
   "file_extension": ".py",
   "mimetype": "text/x-python",
   "name": "python",
   "nbconvert_exporter": "python",
   "pygments_lexer": "ipython3",
   "version": "3.9.7"
  }
 },
 "nbformat": 4,
 "nbformat_minor": 4
}
